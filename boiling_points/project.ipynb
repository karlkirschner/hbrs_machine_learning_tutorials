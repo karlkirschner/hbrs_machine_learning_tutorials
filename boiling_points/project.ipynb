{
 "cells": [
  {
   "cell_type": "markdown",
   "id": "4aa2f918",
   "metadata": {},
   "source": [
    "# Machine Learning for Fluid Property Correlation with Python\n",
    "\n",
    "by Nikolas Ferber, handed in on January 23, 2022\n",
    "\n",
    "____________________________\n",
    "\n",
    "This notebook seeks to broadly reproduce the findings of the article *Machine Learning for Fluid Property Correlations: Classroom Examples with MATLAB*[1], but using Python with the libraries scikit-learn[2] and PyTorch[3] instead of MATLAB. We will additionally use the libraries Numpy[4] and Pandas[5][6] for handling large datasets and Matplotlib[7] for visualization.\n",
    "\n",
    "The aim is to find predictions for the boiling points of organic chemical compounds from a data set of more than 6000 such compounds, using correlated properties. In the first section we will use univariate and then multivariate linear regression for this purpose, after that we will use PyTorch to set up an artificial neural network that can produce more accurate predictions.\n",
    "\n"
   ]
  },
  {
   "cell_type": "code",
   "execution_count": 1,
   "id": "37ab6b7b",
   "metadata": {},
   "outputs": [],
   "source": [
    "import numpy as np\n",
    "import pandas as pd\n",
    "import matplotlib\n",
    "import matplotlib.pyplot as plt\n",
    "import sklearn\n",
    "from sklearn import linear_model\n",
    "from sklearn.model_selection import train_test_split\n",
    "from sklearn.metrics import r2_score"
   ]
  },
  {
   "cell_type": "markdown",
   "id": "0ef98f06",
   "metadata": {},
   "source": [
    "## Introduction\n",
    "\n",
    "________________________\n",
    "\n",
    "### Data\n",
    "\n",
    "The data set[8] used here includes the names, boiling point, molecular weight, critical temperature, and acentric factor of more than 6000 mostly organic compounds. The data was compiled from various sources, not all of them necessarily reliable, and additionally inludes some nonorganic compounds[1]. These factors may make predicting the boiling points more difficult than a more strictly curated dataset, but we will use it as it is here."
   ]
  },
  {
   "cell_type": "code",
   "execution_count": 7,
   "id": "7887abbf",
   "metadata": {},
   "outputs": [
    {
     "data": {
      "text/html": [
       "<div>\n",
       "<style scoped>\n",
       "    .dataframe tbody tr th:only-of-type {\n",
       "        vertical-align: middle;\n",
       "    }\n",
       "\n",
       "    .dataframe tbody tr th {\n",
       "        vertical-align: top;\n",
       "    }\n",
       "\n",
       "    .dataframe thead th {\n",
       "        text-align: right;\n",
       "    }\n",
       "</style>\n",
       "<table border=\"1\" class=\"dataframe\">\n",
       "  <thead>\n",
       "    <tr style=\"text-align: right;\">\n",
       "      <th></th>\n",
       "      <th>name</th>\n",
       "      <th>molweight</th>\n",
       "      <th>critical temperature (K)</th>\n",
       "      <th>acentric factor</th>\n",
       "      <th>boiling point (K)</th>\n",
       "    </tr>\n",
       "  </thead>\n",
       "  <tbody>\n",
       "    <tr>\n",
       "      <th>0</th>\n",
       "      <td>(+)-a-pinene</td>\n",
       "      <td>136.23704</td>\n",
       "      <td>647.00</td>\n",
       "      <td>0.3410</td>\n",
       "      <td>428.65</td>\n",
       "    </tr>\n",
       "    <tr>\n",
       "      <th>1</th>\n",
       "      <td>(+)-camphene</td>\n",
       "      <td>136.23704</td>\n",
       "      <td>638.00</td>\n",
       "      <td>0.2960</td>\n",
       "      <td>432.65</td>\n",
       "    </tr>\n",
       "    <tr>\n",
       "      <th>2</th>\n",
       "      <td>(-)-a-pinene</td>\n",
       "      <td>136.23704</td>\n",
       "      <td>647.00</td>\n",
       "      <td>0.3410</td>\n",
       "      <td>429.35</td>\n",
       "    </tr>\n",
       "    <tr>\n",
       "      <th>3</th>\n",
       "      <td>(-)-b-citronellol</td>\n",
       "      <td>156.26820</td>\n",
       "      <td>656.59</td>\n",
       "      <td>0.6120</td>\n",
       "      <td>498.65</td>\n",
       "    </tr>\n",
       "    <tr>\n",
       "      <th>4</th>\n",
       "      <td>(-)-camphene</td>\n",
       "      <td>136.23704</td>\n",
       "      <td>638.00</td>\n",
       "      <td>0.2960</td>\n",
       "      <td>439.95</td>\n",
       "    </tr>\n",
       "    <tr>\n",
       "      <th>...</th>\n",
       "      <td>...</td>\n",
       "      <td>...</td>\n",
       "      <td>...</td>\n",
       "      <td>...</td>\n",
       "      <td>...</td>\n",
       "    </tr>\n",
       "    <tr>\n",
       "      <th>6026</th>\n",
       "      <td>water</td>\n",
       "      <td>18.01528</td>\n",
       "      <td>647.13</td>\n",
       "      <td>0.3449</td>\n",
       "      <td>373.15</td>\n",
       "    </tr>\n",
       "    <tr>\n",
       "      <th>6027</th>\n",
       "      <td>xylenes</td>\n",
       "      <td>106.16740</td>\n",
       "      <td>620.21</td>\n",
       "      <td>0.3170</td>\n",
       "      <td>413.15</td>\n",
       "    </tr>\n",
       "    <tr>\n",
       "      <th>6028</th>\n",
       "      <td>zirconium bromide</td>\n",
       "      <td>410.84000</td>\n",
       "      <td>805.00</td>\n",
       "      <td>0.3100</td>\n",
       "      <td>633.15</td>\n",
       "    </tr>\n",
       "    <tr>\n",
       "      <th>6029</th>\n",
       "      <td>zirconium chloride</td>\n",
       "      <td>233.03480</td>\n",
       "      <td>778.00</td>\n",
       "      <td>0.2980</td>\n",
       "      <td>604.15</td>\n",
       "    </tr>\n",
       "    <tr>\n",
       "      <th>6030</th>\n",
       "      <td>zirconium iodide</td>\n",
       "      <td>598.84188</td>\n",
       "      <td>960.00</td>\n",
       "      <td>0.3430</td>\n",
       "      <td>704.15</td>\n",
       "    </tr>\n",
       "  </tbody>\n",
       "</table>\n",
       "<p>6031 rows × 5 columns</p>\n",
       "</div>"
      ],
      "text/plain": [
       "                    name  molweight  critical temperature (K)  \\\n",
       "0           (+)-a-pinene  136.23704                    647.00   \n",
       "1           (+)-camphene  136.23704                    638.00   \n",
       "2           (-)-a-pinene  136.23704                    647.00   \n",
       "3      (-)-b-citronellol  156.26820                    656.59   \n",
       "4           (-)-camphene  136.23704                    638.00   \n",
       "...                  ...        ...                       ...   \n",
       "6026               water   18.01528                    647.13   \n",
       "6027             xylenes  106.16740                    620.21   \n",
       "6028   zirconium bromide  410.84000                    805.00   \n",
       "6029  zirconium chloride  233.03480                    778.00   \n",
       "6030    zirconium iodide  598.84188                    960.00   \n",
       "\n",
       "      acentric factor  boiling point (K)  \n",
       "0              0.3410             428.65  \n",
       "1              0.2960             432.65  \n",
       "2              0.3410             429.35  \n",
       "3              0.6120             498.65  \n",
       "4              0.2960             439.95  \n",
       "...               ...                ...  \n",
       "6026           0.3449             373.15  \n",
       "6027           0.3170             413.15  \n",
       "6028           0.3100             633.15  \n",
       "6029           0.2980             604.15  \n",
       "6030           0.3430             704.15  \n",
       "\n",
       "[6031 rows x 5 columns]"
      ]
     },
     "execution_count": 7,
     "metadata": {},
     "output_type": "execute_result"
    }
   ],
   "source": [
    "# df = pd.read_excel('JossM2019_boiling_dataset.xlsx', header=0)\n",
    "df = pd.read_csv('JossM2019_boiling_dataset.csv', header=0, sep=';') ## KNK\n",
    "df.drop(columns='id', inplace=True)\n",
    "df"
   ]
  },
  {
   "cell_type": "markdown",
   "id": "d92f2084",
   "metadata": {},
   "source": [
    "### Training and testing datasets\n",
    "\n",
    "Before we begin creating models that predict the boiling points of these compounds, we need to find a way to then evaluate how accurately the predictions of those models actually are. If we used the entire available dataset to create our model, that might provide us with the most accurate models for calculating these prediction. However, doing that would mean that during the creation of the model, it would have \"seen\" all the data available to us, leaving us without any leftover data that we could use to accurately test the model with data that it doesn't already know.\n",
    "\n",
    "To avoid this issue, we split the data into separate *training* and *testing data sets*. Only the training set will be used to create the prediction model, leaving us with the testing set as data that the model has never seen before, so it can be used to accurately evaluate the quality of the model's predictions."
   ]
  },
  {
   "cell_type": "markdown",
   "id": "8251d533",
   "metadata": {},
   "source": [
    "### Exploring potential correlations\n",
    "\n",
    "A first reasonable guess for how to help estimate a compound's boiling point is that it might correlate with the weight of its molecules. To explore this possibility, we start by showing their relationship in the given dataset using Matplotlib:"
   ]
  },
  {
   "cell_type": "code",
   "execution_count": 8,
   "id": "7750a24a",
   "metadata": {
    "scrolled": false
   },
   "outputs": [
    {
     "data": {
      "image/png": "[encoded data removed]",
      "text/plain": [
       "<Figure size 720x504 with 1 Axes>"
      ]
     },
     "metadata": {
      "needs_background": "light"
     },
     "output_type": "display_data"
    }
   ],
   "source": [
    "mol_weight = df['molweight'].to_numpy().reshape(-1, 1)\n",
    "critical_temp = df['critical temperature (K)'].to_numpy().reshape(-1, 1)\n",
    "acentric_factor = df['acentric factor'].to_numpy().reshape(-1, 1)\n",
    "boiling_point = df['boiling point (K)'].to_numpy().reshape(-1, 1)\n",
    "\n",
    "plt.figure(figsize=(10,7))\n",
    "plt.scatter(x=mol_weight, y=boiling_point,\n",
    "            label='boiling points',\n",
    "            marker='.', alpha=0.5)\n",
    "\n",
    "plt.xlabel(xlabel='molecular weight [g/mol]')\n",
    "plt.ylabel(ylabel='boiling point [K]')\n",
    "plt.grid()\n",
    "plt.legend()\n",
    "plt.show()"
   ]
  },
  {
   "cell_type": "markdown",
   "id": "aa89f5c9",
   "metadata": {},
   "source": [
    "Here we can see a clear correlation between these two properties. We can also see that a simple linear function fit to this data might provide us with a decent first model for predicting boiling points based on just the molecular weight, leading us into the first machine learning topic presented here, *linear regression*."
   ]
  },
  {
   "cell_type": "markdown",
   "id": "e21a0f6d",
   "metadata": {},
   "source": [
    "## Linear Regression\n",
    "\n",
    "_________________\n",
    "\n",
    "Linear regression is a comparatively simple approach at predicting numerical properties based on one or more features by trying to find the best fitting linear function for the given dataset. Inputting features of, in this case, an additional organic compound will then provide a rough estimate for that compound's boiling point."
   ]
  },
  {
   "cell_type": "markdown",
   "id": "466efb98",
   "metadata": {},
   "source": [
    "Before starting on the calculations, we will use scikit-learn's method `train_test_split` to split the data into randomized separate sets for training and testing:"
   ]
  },
  {
   "cell_type": "code",
   "execution_count": 9,
   "id": "e197032c",
   "metadata": {},
   "outputs": [],
   "source": [
    "mw_train, mw_test, ct_train, ct_test, af_train, af_test, bp_train, bp_test = train_test_split(\n",
    "    mol_weight, critical_temp, acentric_factor, boiling_point, train_size=0.04)"
   ]
  },
  {
   "cell_type": "markdown",
   "id": "4d40f2ac",
   "metadata": {},
   "source": [
    "### Univariate linear regression\n",
    "\n",
    "Based on our observations above, we will first try predicting the boiling points using just one variable, the molecular weight of the compounds. Using scikit-learn, we can easily create a univariate linear regression model for this purpose and fit it to our training dataset:"
   ]
  },
  {
   "cell_type": "code",
   "execution_count": 10,
   "id": "05c17792",
   "metadata": {},
   "outputs": [],
   "source": [
    "reg = linear_model.LinearRegression()\n",
    "model = reg.fit(X=mw_train, y=bp_train)"
   ]
  },
  {
   "cell_type": "markdown",
   "id": "f59b4841",
   "metadata": {},
   "source": [
    "Now we can calculate and show a prediction for the boiling points of compounds in the *testing set* based on this fit:"
   ]
  },
  {
   "cell_type": "code",
   "execution_count": 11,
   "id": "e014a83b",
   "metadata": {},
   "outputs": [
    {
     "data": {
      "text/plain": [
       "array([[406.74697534],\n",
       "       [390.51962552],\n",
       "       [707.20744602],\n",
       "       ...,\n",
       "       [450.6387407 ],\n",
       "       [515.36227798],\n",
       "       [441.92749729]])"
      ]
     },
     "execution_count": 11,
     "metadata": {},
     "output_type": "execute_result"
    }
   ],
   "source": [
    "prediction = model.predict(X=mw_test)\n",
    "prediction"
   ]
  },
  {
   "cell_type": "markdown",
   "id": "679c58b6",
   "metadata": {},
   "source": [
    "To verify how accurately this prediction fits the data, we calculate the R² value with scikit-learn. For the sake of brevity we will not explain the details of R² value calculation here. Important to know here is primarily that R² can be used as a measure of a prediction's accuracy, where the closer the value is to 1, the better the prediction is."
   ]
  },
  {
   "cell_type": "code",
   "execution_count": 12,
   "id": "e735514c",
   "metadata": {},
   "outputs": [
    {
     "data": {
      "text/plain": [
       "0.5563275572672848"
      ]
     },
     "execution_count": 12,
     "metadata": {},
     "output_type": "execute_result"
    }
   ],
   "source": [
    "r2_score(y_true=bp_test, y_pred=prediction)"
   ]
  },
  {
   "cell_type": "markdown",
   "id": "85fd51b1",
   "metadata": {},
   "source": [
    "This value for R² suggests that there is a correlation between a compound's molecular weight and its boiling point. While the accuracy of predictions can still be improved significantly with more complex models and taking other features of the molecules into account, this score can serve as a good baseline to compare other models against."
   ]
  },
  {
   "cell_type": "markdown",
   "id": "c18723ec",
   "metadata": {},
   "source": [
    "Visualizing the fit from the linear regression model with Matplotlib, we get the following graph. We can use it to verify that for a linear fit, scikit-learn's linear regression model managed to fit the data well."
   ]
  },
  {
   "cell_type": "code",
   "execution_count": 13,
   "id": "7447767c",
   "metadata": {},
   "outputs": [
    {
     "data": {
      "image/png": "[encoded data removed]",
      "text/plain": [
       "<Figure size 720x504 with 1 Axes>"
      ]
     },
     "metadata": {
      "needs_background": "light"
     },
     "output_type": "display_data"
    }
   ],
   "source": [
    "plt.figure(figsize=(10,7))\n",
    "plt.scatter(x=mol_weight, y=boiling_point,\n",
    "            label='boiling points',\n",
    "            marker='.', alpha=0.5)\n",
    "plt.plot(mw_test, prediction,\n",
    "         label='fit with linear regression',\n",
    "         color='red')\n",
    "\n",
    "plt.xlabel(xlabel='molecular weight [g/mol]')\n",
    "plt.ylabel(ylabel='boiling point [K]')\n",
    "plt.grid()\n",
    "plt.legend()\n",
    "plt.show()"
   ]
  },
  {
   "cell_type": "markdown",
   "id": "0ea4611b",
   "metadata": {},
   "source": [
    "### Multivariate Linear Regression\n",
    "\n",
    "The previous prediction only used one feature as input data. We can try to increase the precision of our prediction by taking more features into account. For this purpose we will first try using multivariate linear regression. As features we will use the molecular weight like we did before and additionally include the acentric factor, a unitless measure that describes aspects of the shape of molecules.\n",
    "\n",
    "To do this with scikit-learn, we need to put both features for all the molecules in matrix form and then use that as input for the model:"
   ]
  },
  {
   "cell_type": "code",
   "execution_count": 14,
   "id": "8a15dd06",
   "metadata": {},
   "outputs": [],
   "source": [
    "train_matrix = np.hstack((mw_train, af_train))\n",
    "test_matrix = np.hstack((mw_test, af_test))\n",
    "\n",
    "model = reg.fit(X=train_matrix, y=bp_train)"
   ]
  },
  {
   "cell_type": "markdown",
   "id": "fa85be5c",
   "metadata": {},
   "source": [
    "As we did above, we can now use this model to create a prediction for our testing data:"
   ]
  },
  {
   "cell_type": "code",
   "execution_count": 15,
   "id": "d57bf5ce",
   "metadata": {},
   "outputs": [
    {
     "data": {
      "text/plain": [
       "array([[387.22824819],\n",
       "       [396.29009165],\n",
       "       [726.29580776],\n",
       "       ...,\n",
       "       [434.96041507],\n",
       "       [520.57129367],\n",
       "       [440.20585679]])"
      ]
     },
     "execution_count": 15,
     "metadata": {},
     "output_type": "execute_result"
    }
   ],
   "source": [
    "prediction = model.predict(X=test_matrix)\n",
    "prediction"
   ]
  },
  {
   "cell_type": "markdown",
   "id": "fd4c5b5c",
   "metadata": {},
   "source": [
    "Now we will again use the R² score to verify how accurately our new prediction fits the data:"
   ]
  },
  {
   "cell_type": "code",
   "execution_count": 16,
   "id": "a98d0ed3",
   "metadata": {},
   "outputs": [
    {
     "data": {
      "text/plain": [
       "0.7070542592016138"
      ]
     },
     "execution_count": 16,
     "metadata": {},
     "output_type": "execute_result"
    }
   ],
   "source": [
    "r2_score(y_true=bp_test, y_pred=prediction)"
   ]
  },
  {
   "cell_type": "markdown",
   "id": "d7c585ca",
   "metadata": {},
   "source": [
    "This is a significant improvement over the univariate model, showing that the acentric factor is related to the boiling point of compounds and that we can use the addition of the acentric factor in our models to increase their precision."
   ]
  },
  {
   "cell_type": "markdown",
   "id": "6017f317",
   "metadata": {},
   "source": [
    "#### Potential adjustments to model creation\n",
    "\n",
    "Initially we used only 4% of the full data set to train the linear regression model, now we will quickly explore how our results change if we use drastically more data to create the model, increasing the share of training data to 15%:"
   ]
  },
  {
   "cell_type": "code",
   "execution_count": 17,
   "id": "726cd06f",
   "metadata": {},
   "outputs": [],
   "source": [
    "mw_train, mw_test, ct_train, ct_test, af_train, af_test, bp_train, bp_test = train_test_split(\n",
    "    mol_weight, critical_temp, acentric_factor, boiling_point, train_size=0.15)"
   ]
  },
  {
   "cell_type": "code",
   "execution_count": 18,
   "id": "af510ff3",
   "metadata": {},
   "outputs": [
    {
     "data": {
      "text/plain": [
       "0.7136474730890363"
      ]
     },
     "execution_count": 18,
     "metadata": {},
     "output_type": "execute_result"
    }
   ],
   "source": [
    "train_matrix = np.hstack((mw_train, af_train))\n",
    "test_matrix = np.hstack((mw_test, af_test))\n",
    "\n",
    "model = reg.fit(X=train_matrix, y=bp_train)\n",
    "\n",
    "prediction = model.predict(X=test_matrix)\n",
    "\n",
    "r2_score(y_true=bp_test, y_pred=prediction)"
   ]
  },
  {
   "cell_type": "markdown",
   "id": "ad27ac99",
   "metadata": {},
   "source": [
    "Depending on the random selection from the training data, this score will usually be only around 1% bigger or smaller than the result with the smaller training data set, so they can be considered essentially equal.\n",
    "\n",
    "This tells us that the linear regression model works well even with a relatively small set of training data and remains quite stable for different training data sizes."
   ]
  },
  {
   "cell_type": "markdown",
   "id": "a1cffe2c",
   "metadata": {},
   "source": [
    "Lastly, we will try using the ratio of boiling point to critical temperature instead of the absolute boiling point. This has two advantages, firstly putting more theoretical insight into the model, as this ratio could be considered more meaningful in this context than using the boiling point alone. Additionally, it regularizes the data as thís ratio lies between 0 and 1 for all compounds, which comes with some numerical benefits, avoiding potential problems with calculations involving numbers of very different orders of magnitude.[1]"
   ]
  },
  {
   "cell_type": "code",
   "execution_count": 19,
   "id": "219c04de",
   "metadata": {},
   "outputs": [
    {
     "data": {
      "text/plain": [
       "array([[0.75438822],\n",
       "       [0.61883537],\n",
       "       [0.75077064],\n",
       "       ...,\n",
       "       [0.65571658],\n",
       "       [0.68573694],\n",
       "       [0.71035157]])"
      ]
     },
     "execution_count": 19,
     "metadata": {},
     "output_type": "execute_result"
    }
   ],
   "source": [
    "bp_rel_train = bp_train / ct_train\n",
    "bp_rel_test = bp_test / ct_test\n",
    "\n",
    "model = reg.fit(X=train_matrix, y=bp_rel_train)\n",
    "predict_rel = model.predict(X=test_matrix)\n",
    "predict_rel"
   ]
  },
  {
   "cell_type": "code",
   "execution_count": 20,
   "id": "e0ea9be9",
   "metadata": {},
   "outputs": [
    {
     "data": {
      "text/plain": [
       "0.7087604152101441"
      ]
     },
     "execution_count": 20,
     "metadata": {},
     "output_type": "execute_result"
    }
   ],
   "source": [
    "r2_score(y_true=bp_rel_test, y_pred=predict_rel)"
   ]
  },
  {
   "cell_type": "markdown",
   "id": "0d587cf3",
   "metadata": {},
   "source": [
    "This change does not seem to give us a notably better score, so it looks like it does not meaningfully improve our prediction with the linear regression model. Artificial neural network algorithms tend to work better with values between 0 and 1 though[1], so we will use these relative values in the next section."
   ]
  },
  {
   "cell_type": "markdown",
   "id": "d3478aeb",
   "metadata": {},
   "source": [
    "## Artificial Neural Networks\n",
    "\n",
    "________________________\n",
    "\n",
    "### Introduction\n",
    "\n",
    "In this section we will construct an artificial neural network to try to create a model that gives us more accurate predictions than linear regression.\n",
    "\n",
    "Artificial neural networks (ANNs) are systems of nodes, called neurons, that are set up between the input and output nodes and act as functions of the input variables with adjustable parameters called weights and biases. They pass their results along to nodes in layers behind them, ultimately leading into a final node that gives us our prediction for the given input values.\n",
    "\n",
    "What makes ANNs useful is that they can be used in various cases where the nature of the relationship between input and output data is unclear or difficult to manually calculate. This is because they can be constructed to be as complex as needed for any given task and because they can \"learn\" automatically. The weights and biases of all neurons in an ANN can initially be set up randomly, not requiring any initial estimate by a researcher. Training data is then put into the ANN and results are compared to the actual target output values. Based on how much and in which direction the prediction deviated from the target values, all the weights and biases can then be updated to try to increase the precision of the prediction. This process can, depending on the size of the training dataset and the complexity of the ANN, quickly be repeated hundreds or thousands of times to gradually increase precision and eventually create a very accurate final model.\n",
    "\n",
    "The two main types of problems ANNs are used for are *classification* and *regression*.\n",
    "\n",
    "- In *classification* problems, ANNs should decide which of a predefined set of categories the given input belongs in. A major example for this is image recognition, where the input is an image and the output can e.g. be \"road\", \"car\", or \"pedestrian.\"\n",
    "\n",
    "- In *regression* problems, the ANN takes input values and outputs a single numerical value as a result, so the prediction of boiling points of chemical compounds is a regression problem."
   ]
  },
  {
   "cell_type": "markdown",
   "id": "06968220",
   "metadata": {},
   "source": [
    "![ANN graph](neural_net.svg)"
   ]
  },
  {
   "cell_type": "markdown",
   "id": "dc4ff674",
   "metadata": {},
   "source": [
    "#### Building the ANN structure\n",
    "\n",
    "Above is an image illustrating the shape of the ANN we will create. As we did earlier for multivariate linear regression, we will use two features as input variables, the molecular weight and the acentric factor.\n",
    "\n",
    "Those values will be passed into the first so-called *hidden layer* of the ANN. We use linear layers here, meaning the functions in the nodes on the left of the first hidden layer have the shape\n",
    "\n",
    "$f_{i}(m, a) = w_{i,1}\\cdot m + w_{i,2}\\cdot a + b_{i}$,\n",
    "\n",
    "where $m$ is the molecular weight, $a$ the acentric factor, $w_{i,j}$ are the weights and $b_{i}$ the biases.\n",
    "\n",
    "To introduce nonlinearity, their results are then passed through the function $tanh(x) = \\frac{2}{1+e^{-2x}} - 1$.\n",
    "\n",
    "After that, they are relayed into the second hidden layer of the ANN. This layer is set up analogously to the first layer, with the difference that the linear nodes take the output of all the nodes in the previous layer as their input.\n",
    "\n",
    "Finally, the outputs of the second hidden layer are channeled into a final linear node on the right, then passed through a sigmoid function $\\sigma(x) = \\frac{1}{1+e^{-x}}$ as a final nonlinear step and to normalize the result into the desired range between $0$ and $1$. The normalization is not technically necessary here, the results would end up between $1$ and $0$ after a few training loops regardless, but this setup produced slightly better results on average."
   ]
  },
  {
   "cell_type": "markdown",
   "id": "ccc187fb",
   "metadata": {},
   "source": [
    "![nonlinear functions](nonlin_functions.png)\n",
    "\n",
    "*graphs created using https://www.wolframalpha.com*"
   ]
  },
  {
   "cell_type": "markdown",
   "id": "8c6300a7",
   "metadata": {},
   "source": [
    "#### Creating the ANN with PyTorch\n",
    "\n",
    "Now we will create this network in Python with PyTorch (loosely based on the implementation of an ANN for a classification problem found on github[9]). First we assign the data for training and testing, though for PyTorch we need to transform our numpy matrices and arrays to tensors. Tensors function similarly to numpy but are optimized for machine learning problems, notably you can perform calculations on them using a graphics card as the processor instead of the CPU."
   ]
  },
  {
   "cell_type": "code",
   "execution_count": 21,
   "id": "dbebc65d",
   "metadata": {},
   "outputs": [],
   "source": [
    "import torch\n",
    "import torch.nn as nn\n",
    "import torchvision\n",
    "import torchvision.transforms as transforms\n",
    "\n",
    "train = torch.from_numpy(train_matrix.astype(np.float32))\n",
    "test = torch.from_numpy(test_matrix.astype(np.float32))\n",
    "\n",
    "bp_train = torch.from_numpy(bp_rel_train.astype(np.float32))\n",
    "bp_test = torch.from_numpy(bp_rel_test.astype(np.float32))"
   ]
  },
  {
   "cell_type": "markdown",
   "id": "758e28d0",
   "metadata": {},
   "source": [
    "Here we create the ANN structure as laid out above. In the constructor `__init__`, we define the type of functions the ANN should use. Then in the method `forward`, we define the path the input values have to pass through in the ANN."
   ]
  },
  {
   "cell_type": "code",
   "execution_count": 22,
   "id": "6199cc63",
   "metadata": {},
   "outputs": [],
   "source": [
    "class NeuralNet(nn.Module):\n",
    "    def __init__(self, input_size, hidden_size):\n",
    "        super(NeuralNet, self).__init__()\n",
    "        self.input_size = input_size\n",
    "        self.l1 = nn.Linear(input_size, hidden_size) \n",
    "        self.l2 = nn.Linear(hidden_size, hidden_size)\n",
    "        self.l3 = nn.Linear(hidden_size, 1)\n",
    "        self.tanh = nn.Tanh()\n",
    "        self.sigmoid = nn.Sigmoid()\n",
    "    \n",
    "    def forward(self, x):\n",
    "        out = self.l1(x)\n",
    "        out = self.tanh(out)\n",
    "        out = self.l2(out)\n",
    "        out = self.tanh(out)\n",
    "        out = self.l3(out)\n",
    "        out = self.sigmoid(out)\n",
    "        return out"
   ]
  },
  {
   "cell_type": "markdown",
   "id": "3c8c9a71",
   "metadata": {},
   "source": [
    "Now we can initialize the model. `input_size` here is the number of features or input values, which has to be 2 for our purposes.\n",
    "`hidden_size` defines the number of nodes in the two hidden layers. A size of 20 in testing gave good and consistent results without taking long for calculations, but this can easily be adjusted and experimented with."
   ]
  },
  {
   "cell_type": "code",
   "execution_count": 23,
   "id": "7ab9d5a3",
   "metadata": {},
   "outputs": [],
   "source": [
    "input_size = 2\n",
    "hidden_size = 20\n",
    "\n",
    "model = NeuralNet(input_size, hidden_size)"
   ]
  },
  {
   "cell_type": "markdown",
   "id": "6d6598f0",
   "metadata": {},
   "source": [
    "Next we need to decide on which *loss function* we want to use. Loss is a measure for how far a model's predictions are from the desired results. There are various ways to quantify this, here we will use the mean squared error, defined as $$\\frac{\\displaystyle\\sum_{i=1}^{n}(y_{i, predicted} - y_{i, actual})^2}{n}.$$ This function punishes larger deviations from the desired result much more than smaller deviations, and is the typical choice for most standard regression problems[10]."
   ]
  },
  {
   "cell_type": "code",
   "execution_count": 24,
   "id": "84bf688c",
   "metadata": {},
   "outputs": [],
   "source": [
    "criterion = nn.MSELoss()"
   ]
  },
  {
   "cell_type": "markdown",
   "id": "253c9924",
   "metadata": {},
   "source": [
    "We also need to pick an *optimizer* and define its *learning rate*. Optimizers calculate how the weights and biases in the nodes of the ANN are adjusted during training. There are a variety of options, here we will choose the Adam optimizer, which is again a common choice and proved effective in testing for this ANN[11].\n",
    "\n",
    "The *learning rate* decides how strongly the optimizer will adjust the weights and biases in each training step. For the Adam optimizer and this problem, the value of 0.002 was effective and consistent in testing."
   ]
  },
  {
   "cell_type": "code",
   "execution_count": 25,
   "id": "cd3bde59",
   "metadata": {},
   "outputs": [],
   "source": [
    "learning_rate = 0.002\n",
    "optimizer = torch.optim.Adam(model.parameters(), lr=learning_rate)"
   ]
  },
  {
   "cell_type": "markdown",
   "id": "c1d3cf9e",
   "metadata": {},
   "source": [
    "Finally, we can now train the model with the training dataset. The number of iterations, or *epochs*, was chosen as a compromise between speed and accuracy and can be adjusted in either direction as needed.\n",
    "\n",
    "The actual learning process relies on calculating gradients during the forward pass of the data through the ANN, then calculating the loss and using a process called backpropagation to calculate in which direction and how strongly the weights and biases in the entire network should be adjusted for the strongest positive effect on the loss function. With that information, the optimizer then takes care of those adjustments, with this process repeating in each epoch until training is complete. Unfortunately, explaining the details of these methods and the concept of gradient descent is beyond the scope of this project, but there are plenty of resources to learn more about this topic."
   ]
  },
  {
   "cell_type": "code",
   "execution_count": 26,
   "id": "dc1b5428",
   "metadata": {},
   "outputs": [
    {
     "name": "stdout",
     "output_type": "stream",
     "text": [
      "Epoch [3/8000], Loss: 0.022530\n",
      "Epoch [6/8000], Loss: 0.006605\n",
      "Epoch [9/8000], Loss: 0.002479\n",
      "Epoch [33/8000], Loss: 0.002522\n",
      "Epoch [66/8000], Loss: 0.002367\n",
      "Epoch [99/8000], Loss: 0.002081\n",
      "Epoch [333/8000], Loss: 0.000675\n",
      "Epoch [666/8000], Loss: 0.000591\n",
      "Epoch [999/8000], Loss: 0.000546\n",
      "Epoch [2000/8000], Loss: 0.000526\n",
      "Epoch [4000/8000], Loss: 0.000520\n",
      "Epoch [6000/8000], Loss: 0.000521\n",
      "Epoch [8000/8000], Loss: 0.000503\n",
      "\n",
      "Training complete!\n"
     ]
    }
   ],
   "source": [
    "num_epochs = 8000\n",
    "\n",
    "for epoch in range(num_epochs):\n",
    "    # Forward pass, calculating gradients along the way\n",
    "    output = model(train)\n",
    "    loss = criterion(output, bp_train)\n",
    "    \n",
    "    # Backward pass and optimization\n",
    "    loss.backward()\n",
    "    optimizer.step()\n",
    "    optimizer.zero_grad()\n",
    "    \n",
    "    # Showing progress during calculation\n",
    "    if (((epoch+1) % 3 == 0 and epoch <= 10) or\n",
    "        ((epoch+1) % 33 == 0 and epoch <= 100) or\n",
    "        ((epoch+1) % 333 == 0 and epoch <= 1000) or\n",
    "        ((epoch+1) % 2000 == 0)):\n",
    "        print (f'Epoch [{epoch+1}/{num_epochs}], Loss: {loss.item():.6f}')\n",
    "\n",
    "print('\\nTraining complete!')"
   ]
  },
  {
   "cell_type": "markdown",
   "id": "a5005c5a",
   "metadata": {},
   "source": [
    "With the training complete, our model is now finished. We can now use it to predict the boiling points for all molecules in our testing data and verify how accurate it is."
   ]
  },
  {
   "cell_type": "code",
   "execution_count": 27,
   "id": "c71c9aff",
   "metadata": {},
   "outputs": [
    {
     "name": "stdout",
     "output_type": "stream",
     "text": [
      "0.7872944990324738\n"
     ]
    }
   ],
   "source": [
    "# For testing, we don't need to compute gradients (for memory efficiency)\n",
    "with torch.no_grad():\n",
    "    output = model(test)\n",
    "    print(r2_score(y_true=bp_test, y_pred=output))"
   ]
  },
  {
   "cell_type": "markdown",
   "id": "0fc9d3f5",
   "metadata": {},
   "source": [
    "The R² score here varies depending on the random choice of training and testing data and on the random initialization of the weights and biases in the ANN, but in testing usually gave results between 0.77 and 0.79. While still not close to a perfect prediction, this is a significantly better result than multivariate linear regression. A theoretical perfect score of 1 is also unachievable in practice with just this input data regardless of the choice of model, as the boiling point of molecules depends on more than just the features we used for these predictions."
   ]
  },
  {
   "cell_type": "markdown",
   "id": "172d78c1",
   "metadata": {},
   "source": [
    "## Conclusion\n",
    "\n",
    "_______________\n",
    "\n",
    "Compared to the research paper that we attempted to reproduce here, our results, while still significant, were somewhat worse than those in the paper for both multivariate linear regression and the artificial neural network, despite much experimentation with all the parameters used above such as the share of training data or various aspects of the ANN. This is not necessarily particularly surprising for the artificial neural network, as it had to be set up with more manual work compared to the ANN creation in MATLAB, which can be set up very easily and presumably comes with sensible default settings including e.g. a gradual adjustment of the learning rate, which was not used here. Probably most importantly, the ANN in the research paper further split the the data used for training the model into a training and a validation set, allowing it to adjust hyperparameters to improve the learning process and increase accuracy (explained in slightly more detail in the final section below), which was not done here.\n",
    "\n",
    "However, while the cited paper got essentially the same R² score of 0.58 for univariate linear regression, the main article reported a score of 0.85 for the multivariate results for linear regression, vastly higher than the results above of around 0.71, depending on the random selection of the testing data. Linear regression is a comparatively simple process and we used the model from scikit-learn's library directly, so this difference seems difficult to explain.\n",
    "\n",
    "One reason that could potentially explain both of these disparities is that when comparing the R² scores for multivariate regression and the ANN in the article's main text with their calculations in the attached detailed solutions, the reporting of the correlation coefficients R and the R² score seems a bit unclear at times and differs from the numbers in the main article. It seems possible that these two values were mixed up or presented unclearly, so that the scores of 0.85 for the multivariate linear regression and 0.89 for the ANN in the main article are actually the correlation coefficients R, meaning the R² scores would be around 0.72 and 0.79 respectively. If that is the case, they would practically exactly match the results obtained here."
   ]
  },
  {
   "cell_type": "markdown",
   "id": "d3908db2",
   "metadata": {},
   "source": [
    "### Closing remarks\n",
    "\n",
    "While there is much more to learn about the theory behind ANNs and all the parts of their construction and training, this has hopefully shown how comparatively simple it can be to program an artificial neural network in Python that can produce fairly accurate predictions for scientific problems, even without necessarily needing any deep scientific understanding of the relationship between the properties used in the prediction."
   ]
  },
  {
   "cell_type": "markdown",
   "id": "d159e53d",
   "metadata": {},
   "source": [
    "## Outlook\n",
    "\n",
    "_____________\n",
    "\n",
    "To avoid the code and explanation becoming too complicated for readers unfamiliar with machine learning and neural networks and because calculations were fast enough for this purpose already, the neural network section was kept as simple as possible while explaining the key concepts. However, there are some ways to improve computational performance and the results of the model, which will be listed here but not explained in detail."
   ]
  },
  {
   "cell_type": "markdown",
   "id": "6cc3286e",
   "metadata": {},
   "source": [
    "### Computational performance\n",
    "\n",
    "- As briefly mentioned above, calculations for the training with tensors can be moved to GPUs. This requires just a few additional lines of code, but to keep the code clean and understandable, this was omitted here.\n",
    "- In each epoch in our training loop, the entire training data was passed through the model at once. For performance improvements, notably for larger datasets or with much bigger input data for each object (such as with images), this can instead be done with smaller, randomized batches of only part of the training data.\n",
    "- We simply set the number of training epochs as a constant above, for more reliable results that can also improve performance, the changes to the loss function results can instead be monitored and training stopped once improvement slows down to negligible levels.\n",
    "\n",
    "### Improvements to the model\n",
    "\n",
    "- What we used as training data here could be split up further into a data set used to directly train the model as we did here and additionally a validation set, which does not get passed through the ANN directly but is used to evaluate the model during training, allowing so-called *hyperparameters* to change based on that evaluation, usually significantly improving a model's predictions[12]. Additionally, the size of training, validation, and testing data can be adjusted and experimented with, in the final version of the project here we only use a set share of 15% of the full dataset for training, though during research other shares were used to attempt to improve results.\n",
    "- The learning rate here was also set as a constant. For better results, it can be gradually adjusted to get smaller as the loss decreases, for more precise late adjustments to the model.\n",
    "- Here we simply used our model with the weights and biases as they ended up after the final epoch. Alternatively, we could save and use those parameters from the pass with the lowest loss in the entire training process, this would most likely slightly improve results.\n",
    "- The ANN used above has a specific structure called *multilayer perceptron*, where each input node is connected to all nodes of the next hidden layer, which in turn are fully connected with the next layer, and so on until the end[13]. There are different structures for ANNs that may perform better depending on their use case."
   ]
  },
  {
   "cell_type": "markdown",
   "id": "ee7d4a19",
   "metadata": {},
   "source": [
    "## References\n",
    "\n",
    "______\n",
    "\n",
    "1. Lisa Joss and Erich A. Müller, Machine Learning for Fluid Property Correlations: Classroom Examples with MATLAB, *Journal of Chemical Education* 2019 96 (4), 697-703, DOI: 10.1021/acs.jchemed.8b00692 \n",
    "2. F. Pedregosa et al., 2011. Scikit-learn: Machine learning in Python. *Journal of machine learning research*, 12(Oct), pp.2825–2830\n",
    "3. A. Paszke et al., 2019. PyTorch: An Imperative Style, High-Performance Deep Learning Library. In Advances in Neural Information Processing Systems 32. *Curran Associates, Inc.*, pp. 8024–8035. Available at: http://papers.neurips.cc/paper/9015-pytorch-an-imperative-style-high-performance-deep-learning-library.pdf\n",
    "4. C.R. Harris, K.J. Millman, S.J. van der Walt et al. Array programming with NumPy. *Nature* 585, 357–362 (2020), https://doi.org/10.1038/s41586-020-2649-2, visited on January 15, 2022\n",
    "5. The pandas development team, pandas-dev/pandas: Pandas, *Zenodo*, 2020, https://doi.org/10.5281/zenodo.3509134, visited on January 15, 2022\n",
    "6. Wes McKinney, 2010, June. Data structures for statistical computing in python. *Proceedings of the 9th Python in Science Conference*, 51-56, https://doi.org/10.25080/Majora-92bf1922-00a, visited on January 15, 2022\n",
    "7. J.D. Hunter, 2007. Matplotlib: A 2D Graphics Environment. *Computing in Science & Engineering*, vol. 9, no. 3, pp. 90-95, https://doi.org/10.1109/MCSE.2007.55, visited on January 15, 2022\n",
    "8. Yaws, C. L. Yaws’ Critical Property Data for Chemical Engineers and Chemists; 2012−2014, http://app.knovel.com/hotlink/toc/id:kpYCPDCECD/yaws-critical-property/yaws-critical-property, retrieved November 2018 by the authors of *Machine Learning for Fluid Property Correlations: Classroom Examples with MATLAB*[1]\n",
    "9. https://github.com/python-engineer/pytorchTutorial/blob/master/13_feedforward.py, retrieved on January 14, 2022\n",
    "10. https://neptune.ai/blog/pytorch-loss-functions, retrieved on January 14, 2022\n",
    "11. https://machinelearningknowledge.ai/pytorch-optimizers-complete-guide-for-beginner/#2_Adam_Optimizer, retrieved on January 14, 2022\n",
    "12. https://towardsdatascience.com/train-validation-and-test-sets-72cb40cba9e7, retrieved on January 14, 2022\n",
    "13. https://towardsdatascience.com/multilayer-perceptron-explained-with-a-real-life-example-and-python-code-sentiment-analysis-cb408ee93141, retrieved on January 19, 2022"
   ]
  },
  {
   "cell_type": "code",
   "execution_count": null,
   "id": "3e976007",
   "metadata": {},
   "outputs": [],
   "source": []
  }
 ],
 "metadata": {
  "kernelspec": {
   "display_name": "Python 3 (ipykernel)",
   "language": "python",
   "name": "python3"
  },
  "language_info": {
   "codemirror_mode": {
    "name": "ipython",
    "version": 3
   },
   "file_extension": ".py",
   "mimetype": "text/x-python",
   "name": "python",
   "nbconvert_exporter": "python",
   "pygments_lexer": "ipython3",
   "version": "3.8.10"
  }
 },
 "nbformat": 4,
 "nbformat_minor": 5
}
